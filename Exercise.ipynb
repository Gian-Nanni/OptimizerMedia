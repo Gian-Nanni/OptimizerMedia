{
 "cells": [
  {
   "cell_type": "code",
   "execution_count": null,
   "id": "ee7c4f69",
   "metadata": {},
   "outputs": [],
   "source": [
    "from pydantic import BaseModel\n",
    "from typing import Dict\n",
    "from datetime import datetime\n",
    "\n",
    "from sqlalchemy.orm import Session\n",
    "\n",
    "# Import database schema (Base, engine, and models)\n",
    "from DB_scheme import Base, engine, Contact, Event\n",
    "\n",
    "# Import custom database operation functions from db_operations module\n",
    "from DB_operations import (\n",
    "    is_event_exists,        # Check if an event already exists in the database\n",
    "    is_contact_exists,      # Check if a contact already exists in the database\n",
    "    insert_event,           # Insert a new event into the database\n",
    "    insert_contact,         # Insert a new contact into the database\n",
    "    update_contact          # Update an existing contact in the database\n",
    ")\n",
    "\n",
    "import json\n",
    "import pandas as pd"
   ]
  },
  {
   "cell_type": "code",
   "execution_count": null,
   "id": "435d96f4",
   "metadata": {},
   "outputs": [],
   "source": [
    "# Define a Pydantic model to validate and parse JSON event data\n",
    "class EventJson(BaseModel):\n",
    "    eventId: str\n",
    "    eventType: str\n",
    "    occurredAt: datetime\n",
    "    objectId: int\n",
    "    properties: Dict[str, str]\n",
    "\n",
    "# Open the JSON file containing events\n",
    "with open(\"eventupdate.json\", encoding=\"utf-8\") as f:\n",
    "    raw = json.load(f)\n",
    "\n",
    "# Validate and convert each JSON entry into dict\n",
    "events = [EventJson(**e).dict() for e in raw]\n",
    "\n",
    "# Flatten JSON into a Pandas DataFrame\n",
    "df = pd.json_normalize(events, sep='_')"
   ]
  },
  {
   "cell_type": "code",
   "execution_count": null,
   "id": "8844ac56",
   "metadata": {},
   "outputs": [],
   "source": [
    "# Remove \"properties_\" prefix from column names\n",
    "df.columns = [col.replace(\"properties_\", \"\") for col in df.columns]\n",
    "print(df.columns)\n",
    "\n",
    "# Convert 'occurredAt' to datetime\n",
    "df['occurredAt'] = pd.to_datetime(df['occurredAt'], errors='coerce')\n",
    "\n",
    "# String columns to clean\n",
    "string_cols = ['email', 'firstname', 'lastname', 'phone', 'lifecyclestage',\n",
    "               'utm_source', 'utm_medium', 'utm_campaign']\n",
    "\n",
    "# Clean strings: strip, lowercase, replace NaN\n",
    "for col in string_cols:\n",
    "    if col in df.columns:\n",
    "        df[col] = (\n",
    "            df[col]\n",
    "            .astype(str)\n",
    "            .str.strip()         \n",
    "            .str.lower() \n",
    "            .replace(\"nan\", None)  \n",
    "        )\n",
    "\n",
    "# Keep only rows with valid emails\n",
    "df = df[df['email'].str.contains(r'@', na=False)]\n",
    "\n",
    "print(df)"
   ]
  },
  {
   "cell_type": "code",
   "execution_count": null,
   "id": "49c8a1df",
   "metadata": {},
   "outputs": [],
   "source": [
    "# Iterate over each row in the DataFrame\n",
    "for _, row in df.iterrows():\n",
    "    # Check if event does not already exist\n",
    "    if not is_event_exists(row['eventId'], engine):\n",
    "        print('Inserto evento')\n",
    "        insert_event(row, engine)\n",
    "    \n",
    "        # Check if contact exists\n",
    "        if not is_contact_exists(row['objectId'], engine):\n",
    "            print('Contacto insertado')\n",
    "            insert_contact(row, engine)\n",
    "        else:\n",
    "            # If contact exists and event is \"updated\", update contact info\n",
    "            if row['eventType'] == 'contact.updated':\n",
    "                update_contact(row, engine)\n",
    "                print(f\"Contacto actualizado: {row['objectId']}\")\n",
    "            else:\n",
    "                # Ignore duplicate contact\n",
    "                print(f\"Contacto duplicado ignorado: {row['objectId']}\")\n",
    "    else:\n",
    "        # Ignore duplicate event\n",
    "        print(f\"Evento duplicado ignorado: {row['eventId']}\")"
   ]
  }
 ],
 "metadata": {
  "kernelspec": {
   "display_name": "venv",
   "language": "python",
   "name": "python3"
  },
  "language_info": {
   "codemirror_mode": {
    "name": "ipython",
    "version": 3
   },
   "file_extension": ".py",
   "mimetype": "text/x-python",
   "name": "python",
   "nbconvert_exporter": "python",
   "pygments_lexer": "ipython3",
   "version": "3.13.3"
  }
 },
 "nbformat": 4,
 "nbformat_minor": 5
}
